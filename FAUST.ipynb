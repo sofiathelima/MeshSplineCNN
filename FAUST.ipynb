version https://git-lfs.github.com/spec/v1
oid sha256:c4761cf6099477bf6e21dae038857ddfbfbf01c5c36e1b7561cfece4b3a40004
size 390977629
